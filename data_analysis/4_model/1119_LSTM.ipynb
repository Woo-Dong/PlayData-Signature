{
 "cells": [
  {
   "cell_type": "code",
   "execution_count": 1,
   "metadata": {},
   "outputs": [],
   "source": [
    "from pymongo import MongoClient\n",
    "import pandas as pd \n",
    "import numpy as np \n",
    "import os \n",
    "\n",
    "import matplotlib.pyplot as plt \n",
    "%matplotlib inline"
   ]
  },
  {
   "cell_type": "code",
   "execution_count": 2,
   "metadata": {},
   "outputs": [
    {
     "data": {
      "text/html": [
       "<div>\n",
       "<style scoped>\n",
       "    .dataframe tbody tr th:only-of-type {\n",
       "        vertical-align: middle;\n",
       "    }\n",
       "\n",
       "    .dataframe tbody tr th {\n",
       "        vertical-align: top;\n",
       "    }\n",
       "\n",
       "    .dataframe thead th {\n",
       "        text-align: right;\n",
       "    }\n",
       "</style>\n",
       "<table border=\"1\" class=\"dataframe\">\n",
       "  <thead>\n",
       "    <tr style=\"text-align: right;\">\n",
       "      <th></th>\n",
       "      <th>date</th>\n",
       "      <th>confirmed</th>\n",
       "    </tr>\n",
       "  </thead>\n",
       "  <tbody>\n",
       "    <tr>\n",
       "      <th>0</th>\n",
       "      <td>2020-01-21</td>\n",
       "      <td>1</td>\n",
       "    </tr>\n",
       "    <tr>\n",
       "      <th>1</th>\n",
       "      <td>2020-01-22</td>\n",
       "      <td>1</td>\n",
       "    </tr>\n",
       "    <tr>\n",
       "      <th>2</th>\n",
       "      <td>2020-01-23</td>\n",
       "      <td>1</td>\n",
       "    </tr>\n",
       "    <tr>\n",
       "      <th>3</th>\n",
       "      <td>2020-01-24</td>\n",
       "      <td>2</td>\n",
       "    </tr>\n",
       "    <tr>\n",
       "      <th>4</th>\n",
       "      <td>2020-01-25</td>\n",
       "      <td>2</td>\n",
       "    </tr>\n",
       "    <tr>\n",
       "      <th>...</th>\n",
       "      <td>...</td>\n",
       "      <td>...</td>\n",
       "    </tr>\n",
       "    <tr>\n",
       "      <th>298</th>\n",
       "      <td>2020-11-14</td>\n",
       "      <td>28338</td>\n",
       "    </tr>\n",
       "    <tr>\n",
       "      <th>299</th>\n",
       "      <td>2020-11-15</td>\n",
       "      <td>28546</td>\n",
       "    </tr>\n",
       "    <tr>\n",
       "      <th>300</th>\n",
       "      <td>2020-11-16</td>\n",
       "      <td>28769</td>\n",
       "    </tr>\n",
       "    <tr>\n",
       "      <th>301</th>\n",
       "      <td>2020-11-17</td>\n",
       "      <td>28998</td>\n",
       "    </tr>\n",
       "    <tr>\n",
       "      <th>302</th>\n",
       "      <td>2020-11-18</td>\n",
       "      <td>29311</td>\n",
       "    </tr>\n",
       "  </tbody>\n",
       "</table>\n",
       "<p>303 rows × 2 columns</p>\n",
       "</div>"
      ],
      "text/plain": [
       "          date  confirmed\n",
       "0   2020-01-21          1\n",
       "1   2020-01-22          1\n",
       "2   2020-01-23          1\n",
       "3   2020-01-24          2\n",
       "4   2020-01-25          2\n",
       "..         ...        ...\n",
       "298 2020-11-14      28338\n",
       "299 2020-11-15      28546\n",
       "300 2020-11-16      28769\n",
       "301 2020-11-17      28998\n",
       "302 2020-11-18      29311\n",
       "\n",
       "[303 rows x 2 columns]"
      ]
     },
     "execution_count": 2,
     "metadata": {},
     "output_type": "execute_result"
    }
   ],
   "source": [
    "def conn_db(): \n",
    "\n",
    "    user = os.getenv(\"DBUSER\", 'signature')\n",
    "    pwd = os.getenv(\"DBPWD\", 'shanekang')\n",
    "    ip_addr = os.getenv(\"DBADDR\", '54.180.213.105')\n",
    "\n",
    "    conn = MongoClient(f'mongodb://{user}:{pwd}@{ip_addr}:27017') \n",
    "    return conn\n",
    "\n",
    "def get_confirmed_data(): \n",
    "\n",
    "    conn = conn_db() \n",
    "\n",
    "    domestic_cumul_collection = conn.DomesticCOVID.domestic_cumul \n",
    "\n",
    "    total_data = [[elem['date'], elem['confirmed']] for elem in domestic_cumul_collection.find({})]\n",
    "\n",
    "    conn.close() \n",
    "\n",
    "    confirmed_df = pd.DataFrame(total_data, columns=['date', 'confirmed'])\n",
    "    confirmed_df['date'] = pd.to_datetime(confirmed_df['date'])\n",
    "    \n",
    "\n",
    "    return confirmed_df\n",
    "\n",
    "confirmed_df = get_confirmed_data() \n",
    "confirmed_df"
   ]
  },
  {
   "cell_type": "code",
   "execution_count": 3,
   "metadata": {},
   "outputs": [
    {
     "data": {
      "text/plain": [
       "array([1, 1, 1, 2, 2], dtype=int64)"
      ]
     },
     "execution_count": 3,
     "metadata": {},
     "output_type": "execute_result"
    }
   ],
   "source": [
    "data = confirmed_df['confirmed'].to_numpy()\n",
    "data[:5]"
   ]
  },
  {
   "cell_type": "code",
   "execution_count": 4,
   "metadata": {},
   "outputs": [
    {
     "data": {
      "text/plain": [
       "array([1, 0, 0, 1, 0], dtype=int64)"
      ]
     },
     "execution_count": 4,
     "metadata": {},
     "output_type": "execute_result"
    }
   ],
   "source": [
    "def to_confirmed_day(data): \n",
    "    diff = [data[0]]\n",
    "    for i in range(1, len(data)): \n",
    "        diff.append(data[i]-data[i-1])\n",
    "    return np.array(diff)\n",
    "data = to_confirmed_day(data)\n",
    "data[:5]"
   ]
  },
  {
   "cell_type": "code",
   "execution_count": 5,
   "metadata": {},
   "outputs": [
    {
     "data": {
      "text/plain": [
       "array([[-0.81216147],\n",
       "       [-0.82064482],\n",
       "       [-0.82064482],\n",
       "       [-0.81216147],\n",
       "       [-0.82064482]])"
      ]
     },
     "execution_count": 5,
     "metadata": {},
     "output_type": "execute_result"
    }
   ],
   "source": [
    "from sklearn.preprocessing import StandardScaler\n",
    "\n",
    "sdsc = StandardScaler() \n",
    "scaled_data = sdsc.fit_transform(data[:,None]) \n",
    "scaled_data[:5]"
   ]
  },
  {
   "cell_type": "code",
   "execution_count": 6,
   "metadata": {},
   "outputs": [
    {
     "data": {
      "text/plain": [
       "[<matplotlib.lines.Line2D at 0x159025575f8>]"
      ]
     },
     "execution_count": 6,
     "metadata": {},
     "output_type": "execute_result"
    },
    {
     "data": {
      "image/png": "[encoded data removed]",
      "text/plain": [
       "<Figure size 432x288 with 1 Axes>"
      ]
     },
     "metadata": {
      "needs_background": "light"
     },
     "output_type": "display_data"
    }
   ],
   "source": [
    "plt.plot(scaled_data)"
   ]
  },
  {
   "cell_type": "code",
   "execution_count": null,
   "metadata": {},
   "outputs": [],
   "source": []
  },
  {
   "cell_type": "code",
   "execution_count": 7,
   "metadata": {},
   "outputs": [
    {
     "data": {
      "text/plain": [
       "((261, 1), (21, 1), (21, 1))"
      ]
     },
     "execution_count": 7,
     "metadata": {},
     "output_type": "execute_result"
    }
   ],
   "source": [
    "val_size = 21\n",
    "train = scaled_data[:-val_size*2]\n",
    "val = scaled_data[-val_size*2:-val_size]\n",
    "test = scaled_data[-val_size:]\n",
    "train.shape, val.shape, test.shape"
   ]
  },
  {
   "cell_type": "code",
   "execution_count": 8,
   "metadata": {},
   "outputs": [
    {
     "data": {
      "text/plain": [
       "((247, 14), (7, 14), (7, 14))"
      ]
     },
     "execution_count": 8,
     "metadata": {},
     "output_type": "execute_result"
    }
   ],
   "source": [
    "def create_dataset(data, look_back=1):\n",
    "    X_data, y_data = list(), list()\n",
    "    \n",
    "    for i in range(len(data)-look_back):\n",
    "        X_data.append(data[i:i+look_back, 0])\n",
    "        y_data.append(data[i + look_back, 0])\n",
    "    return np.array(X_data), np.array(y_data)\n",
    "\n",
    "look_back = 14\n",
    "X_train, y_train = create_dataset(train, look_back=look_back) \n",
    "X_val, y_val = create_dataset(val, look_back=look_back) \n",
    "X_test, y_test = create_dataset(test, look_back=look_back) \n",
    "X_train.shape, X_val.shape, X_test.shape"
   ]
  },
  {
   "cell_type": "code",
   "execution_count": 9,
   "metadata": {},
   "outputs": [
    {
     "data": {
      "text/plain": [
       "((247, 14, 1), (7, 14, 1), (7, 14, 1))"
      ]
     },
     "execution_count": 9,
     "metadata": {},
     "output_type": "execute_result"
    }
   ],
   "source": [
    "def reshape_data(data): \n",
    "    return np.reshape(data, (data.shape[0], data.shape[1], 1))\n",
    "X_train = reshape_data(X_train)\n",
    "X_val = reshape_data(X_val)\n",
    "X_test = reshape_data(X_test)\n",
    "\n",
    "X_train.shape, X_val.shape, X_test.shape"
   ]
  },
  {
   "cell_type": "code",
   "execution_count": 10,
   "metadata": {},
   "outputs": [],
   "source": [
    "from tensorflow.keras.models import Sequential \n",
    "from tensorflow.keras.layers import LSTM, Dense, Dropout, ReLU\n",
    "import tensorflow as tf \n",
    "\n",
    "np.random.seed(64) "
   ]
  },
  {
   "cell_type": "code",
   "execution_count": 11,
   "metadata": {},
   "outputs": [
    {
     "name": "stdout",
     "output_type": "stream",
     "text": [
      "Model: \"sequential_1\"\n",
      "_________________________________________________________________\n",
      "Layer (type)                 Output Shape              Param #   \n",
      "=================================================================\n",
      "dense (Dense)                (None, 1, 14, 32)         64        \n",
      "_________________________________________________________________\n",
      "re_lu (ReLU)                 (None, 1, 14, 32)         0         \n",
      "_________________________________________________________________\n",
      "dense_1 (Dense)              (None, 1, 14, 1)          33        \n",
      "=================================================================\n",
      "Total params: 97\n",
      "Trainable params: 97\n",
      "Non-trainable params: 0\n",
      "_________________________________________________________________\n"
     ]
    }
   ],
   "source": [
    "model = Sequential()\n",
    "# for i in range(2):\n",
    "#     model.add(LSTM(32, batch_input_shape=(1, look_back, 1), stateful=True, return_sequences=True))\n",
    "#     model.add(Dropout(0.2))\n",
    "# model.add(LSTM(16, batch_input_shape=(1, look_back, 1), stateful=True))\n",
    "# model.add(Dropout(0.5))\n",
    "# model.add(Dense(1))\n",
    "\n",
    "model = Sequential()\n",
    "model.add(Dense(32, input_shape=(1, look_back, 1)))\n",
    "model.add(ReLU())\n",
    "model.add(Dense(1))\n",
    "\n",
    "model.compile(loss='mse', optimizer='adam')\n",
    "model.summary()"
   ]
  },
  {
   "cell_type": "code",
   "execution_count": 12,
   "metadata": {},
   "outputs": [],
   "source": [
    "class CustomHistory(tf.keras.callbacks.Callback):\n",
    "    def init(self):\n",
    "        self.train_loss = []\n",
    "        self.val_loss = []\n",
    "        \n",
    "    def on_epoch_end(self, batch, logs={}):\n",
    "        self.train_loss.append(logs.get('loss'))\n",
    "        self.val_loss.append(logs.get('val_loss'))\n",
    "        \n",
    "custom_hist = CustomHistory()\n",
    "custom_hist.init()"
   ]
  },
  {
   "cell_type": "code",
   "execution_count": 13,
   "metadata": {},
   "outputs": [
    {
     "name": "stderr",
     "output_type": "stream",
     "text": [
      "WARNING: Logging before flag parsing goes to stderr.\n",
      "W1119 13:44:48.226133 28500 functional.py:587] Model was constructed with shape (None, 1, 14, 1) for input Tensor(\"dense_input:0\", shape=(None, 1, 14, 1), dtype=float32), but it was called on an input with incompatible shape (1, 14, 1, 1).\n"
     ]
    },
    {
     "name": "stdout",
     "output_type": "stream",
     "text": [
      "Epoch 1/200\n"
     ]
    },
    {
     "name": "stderr",
     "output_type": "stream",
     "text": [
      "W1119 13:44:48.339345 28500 functional.py:587] Model was constructed with shape (None, 1, 14, 1) for input Tensor(\"dense_input:0\", shape=(None, 1, 14, 1), dtype=float32), but it was called on an input with incompatible shape (1, 14, 1, 1).\n"
     ]
    },
    {
     "name": "stdout",
     "output_type": "stream",
     "text": [
      "227/247 [==========================>...] - ETA: 0s - loss: 1.0143"
     ]
    },
    {
     "name": "stderr",
     "output_type": "stream",
     "text": [
      "W1119 13:44:49.354114 28500 functional.py:587] Model was constructed with shape (None, 1, 14, 1) for input Tensor(\"dense_input:0\", shape=(None, 1, 14, 1), dtype=float32), but it was called on an input with incompatible shape (1, 14, 1, 1).\n"
     ]
    },
    {
     "name": "stdout",
     "output_type": "stream",
     "text": [
      "247/247 [==============================] - 1s 3ms/step - loss: 0.9417 - val_loss: 0.0985\n",
      "Epoch 2/200\n",
      "247/247 [==============================] - 0s 1ms/step - loss: 0.8779 - val_loss: 0.1077\n",
      "Epoch 3/200\n",
      "247/247 [==============================] - 0s 2ms/step - loss: 0.8745 - val_loss: 0.1095\n",
      "Epoch 4/200\n",
      "247/247 [==============================] - 0s 2ms/step - loss: 0.8717 - val_loss: 0.1103\n",
      "Epoch 5/200\n",
      "247/247 [==============================] - 0s 2ms/step - loss: 0.8689 - val_loss: 0.1108\n",
      "Epoch 6/200\n",
      "247/247 [==============================] - 0s 2ms/step - loss: 0.8660 - val_loss: 0.1112\n"
     ]
    },
    {
     "data": {
      "text/plain": [
       "<tensorflow.python.keras.callbacks.History at 0x1590adf7fd0>"
      ]
     },
     "execution_count": 13,
     "metadata": {},
     "output_type": "execute_result"
    }
   ],
   "source": [
    "save_best = tf.keras.callbacks.ModelCheckpoint('temp_best.h5', save_best_only=True)\n",
    "early_stop = tf.keras.callbacks.EarlyStopping(\n",
    "    monitor='val_loss',patience=5, verbose=0, mode='auto')\n",
    "model.fit(X_train, y_train, epochs=200, batch_size=1, shuffle=False,\n",
    "         callbacks=[custom_hist, save_best, early_stop], validation_data=(X_val, y_val))"
   ]
  },
  {
   "cell_type": "code",
   "execution_count": 14,
   "metadata": {},
   "outputs": [],
   "source": [
    "# for i in range(200):\n",
    "#     model.fit(X_train, y_train, \n",
    "#               epochs=1, \n",
    "#               batch_size=1, \n",
    "#               shuffle=False, \n",
    "#               callbacks=[custom_hist], \n",
    "#               validation_data=(X_val, y_val))\n",
    "#     model.reset_states()"
   ]
  },
  {
   "cell_type": "code",
   "execution_count": 15,
   "metadata": {},
   "outputs": [],
   "source": [
    "model = tf.keras.models.load_model('temp_best.h5')"
   ]
  },
  {
   "cell_type": "code",
   "execution_count": 16,
   "metadata": {},
   "outputs": [
    {
     "data": {
      "image/png": "[encoded data removed]",
      "text/plain": [
       "<Figure size 432x288 with 1 Axes>"
      ]
     },
     "metadata": {
      "needs_background": "light"
     },
     "output_type": "display_data"
    }
   ],
   "source": [
    "plt.plot(custom_hist.train_loss)\n",
    "plt.plot(custom_hist.val_loss)\n",
    "# plt.ylim(0.0, 0.15)\n",
    "plt.ylabel('loss')\n",
    "plt.xlabel('epoch')\n",
    "plt.legend(['train', 'val'], loc='upper left')\n",
    "plt.show()"
   ]
  },
  {
   "cell_type": "code",
   "execution_count": 17,
   "metadata": {},
   "outputs": [
    {
     "name": "stderr",
     "output_type": "stream",
     "text": [
      "W1119 13:44:51.624338 28500 functional.py:587] Model was constructed with shape (None, 1, 14, 1) for input Tensor(\"dense_input_1:0\", shape=(None, 1, 14, 1), dtype=float32), but it was called on an input with incompatible shape (1, 14, 1, 1).\n"
     ]
    },
    {
     "name": "stdout",
     "output_type": "stream",
     "text": [
      "Train Score:  0.8217664957046509\n",
      "Validataion Score:  0.09854839742183685\n",
      "Test Score:  0.7620455622673035\n"
     ]
    }
   ],
   "source": [
    "trainScore = model.evaluate(X_train, y_train, batch_size=1, verbose=0)\n",
    "model.reset_states()\n",
    "print('Train Score: ', trainScore)\n",
    "\n",
    "valScore = model.evaluate(X_val, y_val, batch_size=1, verbose=0)\n",
    "model.reset_states()\n",
    "print('Validataion Score: ', valScore)\n",
    "\n",
    "testScore = model.evaluate(X_test, y_test, batch_size=1, verbose=0)\n",
    "model.reset_states()\n",
    "print('Test Score: ', testScore)"
   ]
  },
  {
   "cell_type": "code",
   "execution_count": 18,
   "metadata": {},
   "outputs": [
    {
     "name": "stderr",
     "output_type": "stream",
     "text": [
      "W1119 13:44:51.990198 28500 functional.py:587] Model was constructed with shape (None, 1, 14, 1) for input Tensor(\"dense_input_1:0\", shape=(None, 1, 14, 1), dtype=float32), but it was called on an input with incompatible shape (1, 14, 1, 1).\n"
     ]
    },
    {
     "data": {
      "image/png": "[encoded data removed]",
      "text/plain": [
       "<Figure size 864x360 with 1 Axes>"
      ]
     },
     "metadata": {
      "needs_background": "light"
     },
     "output_type": "display_data"
    }
   ],
   "source": [
    "look_ahead = 7\n",
    "xhat = X_test[0]\n",
    "predictions = np.zeros((look_ahead,1))\n",
    "for i in range(look_ahead):\n",
    "    prediction = model.predict(np.array([xhat]), batch_size=1)\n",
    "    prediction = [elem[0] for elem in prediction][0]\n",
    "    predictions[i] = prediction[0]\n",
    "    xhat = np.vstack([xhat[1:], prediction])\n",
    "    \n",
    "plt.figure(figsize=(12,5))\n",
    "plt.plot(np.arange(look_ahead), \n",
    "         sdsc.inverse_transform(predictions),\n",
    "         'r',label=\"prediction\")\n",
    "plt.plot(np.arange(look_ahead), sdsc.inverse_transform(y_test[:look_ahead]),label=\"test function\")\n",
    "plt.legend()\n",
    "plt.show()"
   ]
  },
  {
   "cell_type": "code",
   "execution_count": 176,
   "metadata": {},
   "outputs": [
    {
     "data": {
      "image/png": "[encoded data removed]",
      "text/plain": [
       "<Figure size 864x360 with 1 Axes>"
      ]
     },
     "metadata": {
      "needs_background": "light"
     },
     "output_type": "display_data"
    }
   ],
   "source": [
    "look_ahead = 7\n",
    "xhat = X_test[0]\n",
    "predictions = np.zeros((look_ahead,1))\n",
    "for i in range(look_ahead):\n",
    "    prediction = model.predict(np.array([xhat]), batch_size=1)\n",
    "    predictions[i] = prediction\n",
    "    xhat = np.vstack([xhat[1:],prediction])\n",
    "    \n",
    "plt.figure(figsize=(12,5))\n",
    "plt.plot(np.arange(look_ahead), predictions,'r',label=\"prediction\")\n",
    "plt.plot(np.arange(look_ahead), y_test[:look_ahead],label=\"test function\")\n",
    "plt.legend()\n",
    "plt.show()"
   ]
  },
  {
   "cell_type": "code",
   "execution_count": null,
   "metadata": {},
   "outputs": [],
   "source": []
  }
 ],
 "metadata": {
  "kernelspec": {
   "display_name": "Python 3",
   "language": "python",
   "name": "python3"
  },
  "language_info": {
   "codemirror_mode": {
    "name": "ipython",
    "version": 3
   },
   "file_extension": ".py",
   "mimetype": "text/x-python",
   "name": "python",
   "nbconvert_exporter": "python",
   "pygments_lexer": "ipython3",
   "version": "3.6.8"
  }
 },
 "nbformat": 4,
 "nbformat_minor": 2
}
