{
 "cells": [
  {
   "cell_type": "code",
   "execution_count": 16,
   "metadata": {},
   "outputs": [
    {
     "data": {
      "text/plain": [
       "0.4"
      ]
     },
     "execution_count": 16,
     "metadata": {},
     "output_type": "execute_result"
    }
   ],
   "source": [
    "# #취약자수\n",
    "\n",
    "# S = 200 # 취약자수\n",
    "# I = 200 # 감염자수\n",
    "# R = 100 # 회복자수\n",
    "\n",
    "# s = (S/(S+I+R))\n",
    "\n",
    "# #회복율\n",
    "# gamma = 1/14\n",
    "# gamma = round(gamma, 2)\n",
    "\n",
    "# #감염의 효과율\n",
    "# beta = 0.14\n",
    "\n",
    "# #Ro\n",
    "# Ro = (beta*s)/gamma\n",
    "# Ro = round(Ro, 2)"
   ]
  },
  {
   "cell_type": "code",
   "execution_count": 22,
   "metadata": {},
   "outputs": [
    {
     "data": {
      "text/plain": [
       "1.982"
      ]
     },
     "execution_count": 22,
     "metadata": {},
     "output_type": "execute_result"
    }
   ],
   "source": [
    "## 11월 18일 기준 Ro\n",
    "\n",
    "#취약자수\n",
    "TOTAL = 51780579 # 대한민국 전체 인구수\n",
    "I = 29311 # 확진자수\n",
    "\n",
    "R = 25973 # 회복자수\n",
    "D = 496 # 사망자수\n",
    "R += D # 완치자수(+사망자수)\n",
    "\n",
    "S = (TOTAL - I) # 취약자수(코로나 감염된 적이 없는(즉, 감염될 위험이 있는) 수, 확진판정을 받은 수를 제외한 대한민국 인구)\n",
    "# 취약자 = 전체인구수 - 확진판정받은 인구수\n",
    "\n",
    "s = (S/(S+I+R))\n",
    "\n",
    "#회복율\n",
    "gamma = 1/14\n",
    "gamma = round(gamma, 2)\n",
    "\n",
    "#감염의 효과율\n",
    "#참고자료: http://kostat.go.kr/sri/srikor/srikor_pbl/4/index.board?bmode=download&aSeq=383404&sort=1\n",
    "beta = 0.1389\n",
    "\n",
    "#Ro\n",
    "Ro = (beta*s)/gamma\n",
    "Ro = round(Ro, 3)\n",
    "Ro"
   ]
  },
  {
   "cell_type": "markdown",
   "metadata": {},
   "source": [
    "### 매일 Ro  계산\n",
    "#### 1. Ro 계산에 필요한 데이터 가져오기\n",
    "#### 1-1. 당일기준 대한민국 인구수\n",
    "#### 1-2. 당일기준 누적 확진자수, 사망자수, 완치자수\n",
    "#### 1-3. gamma값, beta값\n",
    "#### 2. Ro 계산\n",
    "#### 3. 함수화"
   ]
  },
  {
   "cell_type": "code",
   "execution_count": 2,
   "metadata": {},
   "outputs": [],
   "source": [
    "import time \n",
    "import pandas as pd \n",
    "import numpy as np \n",
    "\n",
    "from selenium import webdriver \n",
    "from selenium.webdriver.common.action_chains import ActionChains\n",
    "from selenium.webdriver.common.keys import Keys"
   ]
  },
  {
   "cell_type": "markdown",
   "metadata": {},
   "source": [
    "#### 1. Ro 계산에 필요한 데이터 가져오기\n",
    "#### 1-1. 대한민국 인구수"
   ]
  },
  {
   "cell_type": "code",
   "execution_count": 30,
   "metadata": {},
   "outputs": [],
   "source": [
    " total = 51780579"
   ]
  },
  {
   "cell_type": "markdown",
   "metadata": {},
   "source": [
    "#### 1-2. 당일기준 누적 확진자수, 사망자수, 완치자수"
   ]
  },
  {
   "cell_type": "code",
   "execution_count": 32,
   "metadata": {},
   "outputs": [
    {
     "name": "stderr",
     "output_type": "stream",
     "text": [
      "c:\\users\\playdata\\.conda\\envs\\env-01\\lib\\site-packages\\ipykernel_launcher.py:8: DeprecationWarning: use options instead of chrome_options\n",
      "  \n"
     ]
    },
    {
     "name": "stdout",
     "output_type": "stream",
     "text": [
      "\n",
      "\n",
      "\n"
     ]
    }
   ],
   "source": [
    "url = 'https://kosis.kr/statHtml/statHtml.do?orgId=101&tblId=DT_COVID19_005_D'\n",
    "\n",
    "options = webdriver.ChromeOptions()\n",
    "options.add_argument('headless')\n",
    "options.add_argument('window-size=1920x1080')\n",
    "options.add_argument(\"disable-gpu\")\n",
    "\n",
    "browser = webdriver.Chrome('chromedriver', chrome_options=options) # 같은 디렉토리 내에 chtromdriver.exe\n",
    "browser.implicitly_wait(1)\n",
    "\n",
    "browser.get(f'{url}')\n",
    "browser.implicitly_wait(1)\n",
    "\n",
    "res = browser.find_element_by_css_selector('#mainTable > tbody')\n",
    "\n",
    "text_list = [elem.strip() for elem in res.text.strip().split('\\n')] \n",
    "\n",
    "n = len(text_list)\n",
    "result = list() \n",
    "result.append(text_list[:32][1:12] )\n",
    "\n",
    "idx = 32\n",
    "for i in range(0): \n",
    "    if i == 1: \n",
    "        result.append( text_list[idx:idx+32][1:12] )\n",
    "        idx += 32\n",
    "    else: \n",
    "        result.append( text_list[idx:idx+31][:11]  )\n",
    "        idx += 31\n",
    "\n",
    "print(\"\\n\\n\")\n",
    "for elem in result:\n",
    "#     print(elem)\n",
    "    elem"
   ]
  },
  {
   "cell_type": "code",
   "execution_count": 24,
   "metadata": {},
   "outputs": [],
   "source": [
    "I = result[0][4] # 누적 확진자\n",
    "I = I.replace(',', '')\n",
    "I = int(I)\n",
    "# I\n",
    "D = result[0][10] # 누적 사망자\n",
    "D = D.replace(',', '')\n",
    "D = int(D)\n",
    "# D\n",
    "R = result[0][8] # 누적 완치자\n",
    "R = R.replace(',', '')\n",
    "R = int(R)\n",
    "# R\n",
    "\n",
    "R += D # 누적 완치자(누적 사망자 포함)"
   ]
  },
  {
   "cell_type": "markdown",
   "metadata": {},
   "source": [
    "#### 1-3. gamma값, beta값"
   ]
  },
  {
   "cell_type": "code",
   "execution_count": 27,
   "metadata": {},
   "outputs": [],
   "source": [
    "#회복율\n",
    "gamma = 1/14\n",
    "gamma = round(gamma, 2)\n",
    "\n",
    "#감염의 효과율\n",
    "#참고자료: http://kostat.go.kr/sri/srikor/srikor_pbl/4/index.board?bmode=download&aSeq=383404&sort=1\n",
    "beta = 0.1389"
   ]
  },
  {
   "cell_type": "markdown",
   "metadata": {},
   "source": [
    "#### 2. Ro 계산"
   ]
  },
  {
   "cell_type": "code",
   "execution_count": 31,
   "metadata": {},
   "outputs": [
    {
     "data": {
      "text/plain": [
       "1.982"
      ]
     },
     "execution_count": 31,
     "metadata": {},
     "output_type": "execute_result"
    }
   ],
   "source": [
    "S = (total - I)\n",
    "s = (S/(S+I+R))\n",
    "Ro = (beta*s)/gamma\n",
    "Ro = round(Ro, 3)\n",
    "Ro"
   ]
  },
  {
   "cell_type": "markdown",
   "metadata": {},
   "source": [
    "#### 3. 함수화"
   ]
  },
  {
   "cell_type": "code",
   "execution_count": 35,
   "metadata": {},
   "outputs": [
    {
     "name": "stderr",
     "output_type": "stream",
     "text": [
      "c:\\users\\playdata\\.conda\\envs\\env-01\\lib\\site-packages\\ipykernel_launcher.py:19: DeprecationWarning: use options instead of chrome_options\n"
     ]
    },
    {
     "name": "stdout",
     "output_type": "stream",
     "text": [
      "\n",
      "\n",
      "\n"
     ]
    },
    {
     "data": {
      "text/plain": [
       "1.982"
      ]
     },
     "execution_count": 35,
     "metadata": {},
     "output_type": "execute_result"
    }
   ],
   "source": [
    "def get_Ro():\n",
    "    import time \n",
    "    import pandas as pd \n",
    "    import numpy as np\n",
    "\n",
    "    from selenium import webdriver \n",
    "    from selenium.webdriver.common.action_chains import ActionChains\n",
    "    from selenium.webdriver.common.keys import Keys\n",
    "    \n",
    "    total = 51780579\n",
    "    \n",
    "    url = 'https://kosis.kr/statHtml/statHtml.do?orgId=101&tblId=DT_COVID19_005_D'\n",
    "\n",
    "    options = webdriver.ChromeOptions()\n",
    "    options.add_argument('headless')\n",
    "    options.add_argument('window-size=1920x1080')\n",
    "    options.add_argument(\"disable-gpu\")\n",
    "\n",
    "    browser = webdriver.Chrome('chromedriver', chrome_options=options) # 같은 디렉토리 내에 chtromdriver.exe\n",
    "    browser.implicitly_wait(1)\n",
    "\n",
    "    browser.get(f'{url}')\n",
    "    browser.implicitly_wait(1)\n",
    "\n",
    "    res = browser.find_element_by_css_selector('#mainTable > tbody')\n",
    "\n",
    "    text_list = [elem.strip() for elem in res.text.strip().split('\\n')] \n",
    "\n",
    "    n = len(text_list)\n",
    "    result = list() \n",
    "    result.append(text_list[:32][1:12] )\n",
    "\n",
    "    idx = 32\n",
    "    for i in range(0): \n",
    "        if i == 1: \n",
    "            result.append( text_list[idx:idx+32][1:12] )\n",
    "            idx += 32\n",
    "        else: \n",
    "            result.append( text_list[idx:idx+31][:11]  )\n",
    "            idx += 31\n",
    "\n",
    "    print(\"\\n\\n\")\n",
    "    for elem in result:\n",
    "#         print(elem)\n",
    "        elem\n",
    "    \n",
    "    I = result[0][4] # 누적 확진자\n",
    "    I = I.replace(',', '')\n",
    "    I = int(I)\n",
    "\n",
    "    D = result[0][10] # 누적 사망자\n",
    "    D = D.replace(',', '')\n",
    "    D = int(D)\n",
    "    \n",
    "    R = result[0][8] # 누적 완치자\n",
    "    R = R.replace(',', '')\n",
    "    R = int(R)\n",
    "    R += D\n",
    "    \n",
    "    gamma = 1/14\n",
    "    gamma = round(gamma, 2)\n",
    "    beta = 0.1389\n",
    "    \n",
    "    S = (total - I)\n",
    "    s = (S/(S+I+R))\n",
    "    Ro = (beta*s)/gamma\n",
    "    Ro = round(Ro, 3)\n",
    "    return Ro\n",
    "    \n",
    "    \n",
    "get_Ro()"
   ]
  },
  {
   "cell_type": "code",
   "execution_count": null,
   "metadata": {},
   "outputs": [],
   "source": []
  },
  {
   "cell_type": "code",
   "execution_count": null,
   "metadata": {},
   "outputs": [],
   "source": []
  },
  {
   "cell_type": "code",
   "execution_count": null,
   "metadata": {},
   "outputs": [],
   "source": []
  },
  {
   "cell_type": "code",
   "execution_count": null,
   "metadata": {},
   "outputs": [],
   "source": []
  },
  {
   "cell_type": "code",
   "execution_count": null,
   "metadata": {},
   "outputs": [],
   "source": []
  }
 ],
 "metadata": {
  "kernelspec": {
   "display_name": "Python 3",
   "language": "python",
   "name": "python3"
  },
  "language_info": {
   "codemirror_mode": {
    "name": "ipython",
    "version": 3
   },
   "file_extension": ".py",
   "mimetype": "text/x-python",
   "name": "python",
   "nbconvert_exporter": "python",
   "pygments_lexer": "ipython3",
   "version": "3.7.7"
  }
 },
 "nbformat": 4,
 "nbformat_minor": 4
}
