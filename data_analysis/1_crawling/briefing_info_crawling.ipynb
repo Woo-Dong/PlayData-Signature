{
 "cells": [
  {
   "cell_type": "code",
   "execution_count": 30,
   "metadata": {
    "scrolled": false
   },
   "outputs": [
    {
     "name": "stderr",
     "output_type": "stream",
     "text": [
      "c:\\users\\playdata\\.conda\\envs\\env-01\\lib\\site-packages\\ipykernel_launcher.py:43: DeprecationWarning: use options instead of chrome_options\n",
      "c:\\users\\playdata\\.conda\\envs\\env-01\\lib\\site-packages\\konlpy\\tag\\_okt.py:16: UserWarning: \"Twitter\" has changed to \"Okt\" since KoNLPy v0.4.5.\n",
      "  warn('\"Twitter\" has changed to \"Okt\" since KoNLPy v0.4.5.')\n"
     ]
    },
    {
     "data": {
      "text/plain": [
       "{'contents': ['강도 태 중앙 재난안전대책본부 1 총괄 조정관( 보건복지 부 2차 관) 은 1일 “ 코로나 19가 턱밑까지 와 있는 긴급한 상황” 이라고 우려했다.',\n",
       "  '강 1 총괄 조정관은 이날 코로나 19 중앙 재난안전대책본부 회의를 주재한 자리에서 “ 코로나 19 일일 확 진자 수가 6 일째 400~500 명대로 좀처럼 진정되지 않고 있다 ”며 이같이 밝혔다.',\n",
       "  '강도 태 1 총괄 조정관( 보건복지 부 2차 관) 이 중앙 재난안전대책본부 회의를 주재하며 발언하고 있다.'],\n",
       " 'title': '정부 “코로나19 우리 턱밑까지 와 있는 긴급한 상황”',\n",
       " 'date': '2020.12.01'}"
      ]
     },
     "execution_count": 30,
     "metadata": {},
     "output_type": "execute_result"
    }
   ],
   "source": [
    "import requests\n",
    "import time\n",
    "import pandas as pd \n",
    "import numpy as np \n",
    "\n",
    "# textrank\n",
    "from konlpy.tag import Kkma\n",
    "from konlpy.tag import Twitter\n",
    "from sklearn.feature_extraction.text import TfidfVectorizer\n",
    "from sklearn.feature_extraction.text import CountVectorizer\n",
    "from sklearn.preprocessing import normalize\n",
    "\n",
    "from selenium import webdriver \n",
    "from selenium.webdriver.common.action_chains import ActionChains\n",
    "from selenium.webdriver.common.keys import Keys\n",
    "import re\n",
    "\n",
    "from pymongo import MongoClient \n",
    "import os\n",
    "\n",
    "def conn_db():\n",
    "    user = os.getenv(\"DBUSER\", 'signature')\n",
    "    pwd = os.getenv(\"DBPWD\", 'shanekang')\n",
    "    ip_addr = os.getenv(\"DBADDR\", '54.180.213.105')\n",
    "    conn = MongoClient(f'mongodb://{user}:{pwd}@{ip_addr}:27017') \n",
    "    return conn\n",
    "\n",
    "def insert_brefing_data(doc, collection, reset=True): \n",
    "    \n",
    "    if reset: collection.drop() \n",
    "    collection.insert(doc) \n",
    "    return True\n",
    "\n",
    "def briefing_craw():\n",
    "\n",
    "    url = 'https://www.korea.kr/special/policyFocusList.do'\n",
    "\n",
    "    options = webdriver.ChromeOptions()\n",
    "    options.add_argument('headless')\n",
    "    options.add_argument('window-size=1920x1080')\n",
    "    options.add_argument(\"disable-gpu\")\n",
    "\n",
    "    browser = webdriver.Chrome('chromedriver', chrome_options=options) # 같은 디렉토리 내에 chtromdriver.exe\n",
    "    browser.implicitly_wait(1)\n",
    "\n",
    "    browser.get(f'{url}')\n",
    "    browser.implicitly_wait(1)\n",
    "    \n",
    "    browser.find_element_by_css_selector(\"\"\"#container > div > article > div.article-content > div.list-type > ul > li:nth-child(2) > a > dl > dt\"\"\").click()\n",
    "    \n",
    "    title = browser.find_element_by_css_selector(\"\"\"#container > div > article > div.article-head > h1\"\"\").text.strip() \n",
    "    date = browser.find_element_by_css_selector(\"\"\"#container > div > article > div.article-head > div.info > span\"\"\").text.strip()\n",
    "    \n",
    "    texts = browser.find_element_by_css_selector(\"\"\"#container > div > article > div.article-content\"\"\").text\n",
    "    browser.close()\n",
    "    \n",
    "    texts = re.sub('[□○※【】]', '', texts)\n",
    "    texts = texts.replace('▲', '')\n",
    "    texts = texts.replace('▸', ', ')\n",
    "    \n",
    "    # 2. textrank\n",
    "    class SentenceTokenizer(object):\n",
    "    \n",
    "        def __init__(self):\n",
    "            self.kkma = Kkma()\n",
    "            self.twitter = Twitter()\n",
    "            self.stopwords = ['머니S', '머니투데이', '구독', '파이낸셜뉴스', '헬스조선', '중앙일보', '프레시안', '조선일보', '.com',\n",
    "                 '매일경제', '한국', '엠빅', '뉴시스', '무단전재재', '오마이뉴스', '연합뉴스', '연합뉴스TV', 'JTBC','SBS',\n",
    "                  'MBC','KBS','한겨레','YTN','MBN','TV조선','채널A','동아일보','뉴스1', '강원일보','경향신문','세계일보',\n",
    "                  '한국일보','서울신문','노컷뉴스','이데일리', 'CBS', 'co.kr', '자료사진', '기자', '언론사', '섹션', '무단',\n",
    "                 '무단전재재', '재배포', '재배포금지','재판매 및 DB금지', '서울경제', '재배포 금지', '운영']\n",
    "\n",
    "            \n",
    "        # Kkma를 이용하여 문장단위로 나눈 후 setences를 return\n",
    "        def url2sentences(self, url):\n",
    "            article = Article(url, language='ko')\n",
    "            article.download()\n",
    "            article.parse()\n",
    "            sentences = self.kkma.sentences(article.text)\n",
    "\n",
    "            for idx in range(0, len(sentences)):\n",
    "                if len(sentences[idx]) <= 10:\n",
    "                    sentences[idx-1] += (' ' + sentences[idx])\n",
    "                    sentences[idx] = ''\n",
    "\n",
    "            return sentences\n",
    "\n",
    "        def text2sentences(self, text):\n",
    "            sentences = self.kkma.sentences(text)\n",
    "            for idx in range(0, len(sentences)):\n",
    "                if len(sentences[idx]) <= 10:\n",
    "                    sentences[idx-1] += (' ' + sentences[idx])\n",
    "                    sentences[idx] = ''\n",
    "\n",
    "            return sentences\n",
    "\n",
    "        # sentences를 받아 twitter.nouns()를 이용하여 명사를 추출하고 nouns를 return\n",
    "        def get_nouns(self, sentences):\n",
    "            nouns = []\n",
    "            for sentence in sentences:\n",
    "                if sentence is not '':\n",
    "                    nouns.append(' '.join([noun for noun in self.twitter.nouns(str(sentence))\n",
    "                                            if noun not in self.stopwords and len(noun) > 1]))\n",
    "\n",
    "            return nouns\n",
    "\n",
    "        \n",
    "    # TF-IDF 모델, 그래프 생성과정을 GraphMatrix 클래스로 구현\n",
    "    class GraphMatrix(object):\n",
    "        def __init__(self):\n",
    "            self.tfidf = TfidfVectorizer()\n",
    "            self.cnt_vec = CountVectorizer()\n",
    "            self.graph_sentence = []\n",
    "\n",
    "        def build_sent_graph(self, sentence):\n",
    "            tfidf_mat = self.tfidf.fit_transform(sentence).toarray()\n",
    "            self.graph_sentence = np.dot(tfidf_mat, tfidf_mat.T)\n",
    "            return  self.graph_sentence\n",
    "\n",
    "        def build_words_graph(self, sentence):\n",
    "            cnt_vec_mat = normalize(self.cnt_vec.fit_transform(sentence).toarray().astype(float), axis=0)\n",
    "            vocab = self.cnt_vec.vocabulary_\n",
    "            return np.dot(cnt_vec_mat.T, cnt_vec_mat), {vocab[word] : word for word in vocab}\n",
    "        \n",
    "        \n",
    "    # textrank -> 가중치그래프를 이용하여 적용 -> 높은 순으로 정렬 -> 요약할 단어 갯수만큼 출력\n",
    "\n",
    "    class Rank(object):\n",
    "        def get_ranks(self, graph, d=0.85): # d = damping factor\n",
    "            A = graph\n",
    "            matrix_size = A.shape[0]\n",
    "            for id in range(matrix_size):\n",
    "                A[id, id] = 0 # diagonal 부분을 0으로\n",
    "                link_sum = np.sum(A[:,id]) # A[:, id] = A[:][id]\n",
    "                if link_sum != 0:\n",
    "                    A[:, id] /= link_sum\n",
    "                A[:, id] *= -d\n",
    "                A[id, id] = 1\n",
    "\n",
    "            B = (1-d) * np.ones((matrix_size, 1))\n",
    "            ranks = np.linalg.solve(A, B) # 연립방정식 Ax = b\n",
    "            return {idx: r[0] for idx, r in enumerate(ranks)}\n",
    "        \n",
    "        \n",
    "    class TextRank(object):\n",
    "        def __init__(self, text):\n",
    "            self.sent_tokenize = SentenceTokenizer()\n",
    "\n",
    "            if text[:5] in ('http:', 'https'):\n",
    "                self.sentences = self.sent_tokenize.url2sentences(text)\n",
    "            else:\n",
    "                self.sentences = self.sent_tokenize.text2sentences(text)\n",
    "\n",
    "            self.nouns = self.sent_tokenize.get_nouns(self.sentences)\n",
    "\n",
    "            self.graph_matrix = GraphMatrix()\n",
    "            self.sent_graph = self.graph_matrix.build_sent_graph(self.nouns)\n",
    "            self.words_graph, self.idx2word = self.graph_matrix.build_words_graph(self.nouns)\n",
    "\n",
    "            self.rank = Rank()\n",
    "            self.sent_rank_idx = self.rank.get_ranks(self.sent_graph)\n",
    "            self.sorted_sent_rank_idx = sorted(self.sent_rank_idx, key=lambda k: self.sent_rank_idx[k], reverse=True)\n",
    "\n",
    "            self.word_rank_idx = self.rank.get_ranks(self.words_graph)\n",
    "            self.sorted_word_rank_idx = sorted(self.word_rank_idx, key=lambda k: self.word_rank_idx[k], reverse=True)\n",
    "\n",
    "        # 요약문장 3문장\n",
    "        def summarize(self, sent_num=3):\n",
    "            summary = []\n",
    "            index=[]\n",
    "            for idx in self.sorted_sent_rank_idx[:sent_num]:\n",
    "                index.append(idx)\n",
    "            index.sort()\n",
    "            for idx in index:\n",
    "                summary.append(self.sentences[idx])\n",
    "\n",
    "            return summary\n",
    "\n",
    "    url = texts\n",
    "    textrank = TextRank(url)\n",
    "    results =  textrank.summarize(3)\n",
    "\n",
    "    doc = dict( \n",
    "        contents=results, \n",
    "        title=title, \n",
    "        date=date \n",
    "    )\n",
    "\n",
    "    return doc\n",
    "\n",
    "briefing_craw()"
   ]
  },
  {
   "cell_type": "code",
   "execution_count": 32,
   "metadata": {},
   "outputs": [
    {
     "name": "stderr",
     "output_type": "stream",
     "text": [
      "c:\\users\\playdata\\.conda\\envs\\env-01\\lib\\site-packages\\ipykernel_launcher.py:43: DeprecationWarning: use options instead of chrome_options\n",
      "c:\\users\\playdata\\.conda\\envs\\env-01\\lib\\site-packages\\konlpy\\tag\\_okt.py:16: UserWarning: \"Twitter\" has changed to \"Okt\" since KoNLPy v0.4.5.\n",
      "  warn('\"Twitter\" has changed to \"Okt\" since KoNLPy v0.4.5.')\n"
     ]
    },
    {
     "name": "stdout",
     "output_type": "stream",
     "text": [
      "briefing_info data:  True\n"
     ]
    },
    {
     "name": "stderr",
     "output_type": "stream",
     "text": [
      "c:\\users\\playdata\\.conda\\envs\\env-01\\lib\\site-packages\\ipykernel_launcher.py:31: DeprecationWarning: insert is deprecated. Use insert_one or insert_many instead.\n"
     ]
    }
   ],
   "source": [
    "conn = conn_db() \n",
    "brefing_info_collection = conn.NewsData.brefing_info \n",
    "doc = briefing_craw()\n",
    "print(\"briefing_info data: \", insert_brefing_data(doc, brefing_info_collection, reset=True))"
   ]
  },
  {
   "cell_type": "code",
   "execution_count": null,
   "metadata": {},
   "outputs": [],
   "source": [
    "# 2. brefing info Part\n",
    "brefing_info_collection = conn.NewsData.brefing_info \n",
    "doc = briefing_crawing() \n",
    "print(\"Insert brefing_info data: \", insert_brefing_data(doc, brefing_info_collection, reset=True))"
   ]
  },
  {
   "cell_type": "code",
   "execution_count": 34,
   "metadata": {},
   "outputs": [
    {
     "name": "stdout",
     "output_type": "stream",
     "text": [
      "{'_id': ObjectId('5fc605a002cdb9b906397fc0'), 'contents': ['강도 태 중앙 재난안전대책본부 1 총괄 조정관( 보건복지 부 2차 관) 은 1일 “ 코로나 19가 턱밑까지 와 있는 긴급한 상황” 이라고 우려했다.', '강 1 총괄 조정관은 이날 코로나 19 중앙 재난안전대책본부 회의를 주재한 자리에서 “ 코로나 19 일일 확 진자 수가 6 일째 400~500 명대로 좀처럼 진정되지 않고 있다 ”며 이같이 밝혔다.', '강도 태 1 총괄 조정관( 보건복지 부 2차 관) 이 중앙 재난안전대책본부 회의를 주재하며 발언하고 있다.'], 'title': '정부 “코로나19 우리 턱밑까지 와 있는 긴급한 상황”', 'date': '2020.12.01'}\n"
     ]
    }
   ],
   "source": [
    "for elem in brefing_info_collection.find({}): print(elem)"
   ]
  },
  {
   "cell_type": "code",
   "execution_count": null,
   "metadata": {},
   "outputs": [],
   "source": []
  }
 ],
 "metadata": {
  "kernelspec": {
   "display_name": "Python 3",
   "language": "python",
   "name": "python3"
  },
  "language_info": {
   "codemirror_mode": {
    "name": "ipython",
    "version": 3
   },
   "file_extension": ".py",
   "mimetype": "text/x-python",
   "name": "python",
   "nbconvert_exporter": "python",
   "pygments_lexer": "ipython3",
   "version": "3.7.7"
  }
 },
 "nbformat": 4,
 "nbformat_minor": 4
}
