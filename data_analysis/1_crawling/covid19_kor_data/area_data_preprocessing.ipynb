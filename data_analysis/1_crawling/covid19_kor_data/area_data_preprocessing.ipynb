{
 "cells": [
  {
   "cell_type": "code",
   "execution_count": 1,
   "metadata": {},
   "outputs": [],
   "source": [
    "import pandas as pd"
   ]
  },
  {
   "cell_type": "code",
   "execution_count": 2,
   "metadata": {},
   "outputs": [],
   "source": [
    "df = pd.read_csv('area.csv')"
   ]
  },
  {
   "cell_type": "code",
   "execution_count": 3,
   "metadata": {},
   "outputs": [],
   "source": [
    "df.drop(df.index[[0, 1, 2]], inplace=True)"
   ]
  },
  {
   "cell_type": "code",
   "execution_count": 4,
   "metadata": {},
   "outputs": [],
   "source": [
    "df = df.reset_index(drop=True)"
   ]
  },
  {
   "cell_type": "code",
   "execution_count": 5,
   "metadata": {},
   "outputs": [],
   "source": [
    "# df.columns"
   ]
  },
  {
   "cell_type": "markdown",
   "metadata": {},
   "source": [
    "<!-- 서울seoul, 부산bs, 대구tk, 인천ic, 광주kj, 대전dj, 울산ulsan, 세종sj, 경기gg, 강원kw, 충북cb, 충남cn,\n",
    "전북jb, 전남jn, 경북kb, 경남kn, 제주jj, 검역QS(Quarantine Station)\n",
    "\n",
    "# 해외유입(seoul_overseas), 국내발생(seoul_domestic), 확진(seoul_confirmed) 격리중(seoul_iso) 격리해제(seoul_iso_rel) 사망(seoul_death)\n",
    "_overseas\n",
    "_domestic\n",
    "_confirmed\n",
    "_iso\n",
    "_iso_rel\n",
    "_death -->"
   ]
  },
  {
   "cell_type": "code",
   "execution_count": 6,
   "metadata": {},
   "outputs": [],
   "source": [
    "df = df.rename({'시점':'date_s',\n",
    "                '시도별':'seoul_overseas','시도별.1':'seoul_domestic','시도별.2':'seoul_confirmed','시도별.3':'seoul_iso','시도별.4':'seoul_iso_rel','시도별.5':'seoul_death',\n",
    "                '시도별.6':'bs_overseas','시도별.7':'bs_domestic','시도별.8':'bs_confirmed','시도별.9':'bs_iso','시도별.10':'bs_iso_rel','시도별.11':'bs_death',\n",
    "                '시도별.12':'tk_overseas','시도별.13':'tk_domestic','시도별.14':'tk_confirmed','시도별.15':'tk_iso','시도별.16':'tk_iso_rel','시도별.17':'tk_death',\n",
    "                '시도별.18':'ic_overseas','시도별.19':'ic_domestic','시도별.20':'ic_confirmed','시도별.21':'ic_iso','시도별.22':'ic_iso_rel','시도별.23':'ic_death',\n",
    "                '시도별.24':'kj_overseas','시도별.25':'kj_domestic','시도별.26':'kj_confirmed','시도별.27':'kj_iso','시도별.28':'kj_iso_rel','시도별.29':'kj_death',\n",
    "                '시도별.30':'dj_overseas','시도별.31':'dj_domestic','시도별.32':'dj_confirmed','시도별.33':'dj_iso','시도별.34':'dj_iso_rel','시도별.35':'dj_death',\n",
    "                '시도별.36':'ulsan_overseas','시도별.37':'ulsan_domestic','시도별.38':'ulsan_confirmed','시도별.39':'ulsan_iso','시도별.40':'ulsan_iso_rel','시도별.41':'ulsan_death',\n",
    "                '시도별.42':'sj_overseas','시도별.43':'sj_domestic','시도별.44':'sj_confirmed','시도별.45':'sj_iso','시도별.46':'sj_iso_rel','시도별.47':'sj_death',\n",
    "                '시도별.48':'gg_overseas','시도별.49':'gg_domestic','시도별.50':'gg_confirmed','시도별.51':'gg_iso','시도별.52':'gg_iso_rel','시도별.53':'gg_death',\n",
    "                '시도별.54':'kw_overseas','시도별.55':'kw_domestic','시도별.56':'kw_confirmed','시도별.57':'kw_iso','시도별.58':'kw_iso_rel','시도별.59':'kw_death',\n",
    "                '시도별.60':'cb_overseas','시도별.61':'cb_domestic','시도별.62':'cb_confirmed','시도별.63':'cb_iso','시도별.64':'cb_iso_rel','시도별.65':'cb_death',\n",
    "                '시도별.66':'cn_overseas','시도별.67':'cn_domestic','시도별.68':'cn_confirmed','시도별.69':'cn_iso','시도별.70':'cn_iso_rel','시도별.71':'cn_death',\n",
    "                '시도별.72':'jb_overseas','시도별.73':'jb_domestic','시도별.74':'jb_confirmed','시도별.75':'jb_iso','시도별.76':'jb_iso_rel','시도별.77':'jb_death',\n",
    "                '시도별.78':'jn_overseas','시도별.79':'jn_domestic','시도별.80':'jn_confirmed','시도별.81':'jn_iso','시도별.82':'jn_iso_rel','시도별.83':'jn_death',\n",
    "                '시도별.84':'kb_overseas','시도별.85':'kb_domestic','시도별.86':'kb_confirmed','시도별.87':'kb_iso','시도별.88':'kb_iso_rel','시도별.89':'kb_death',\n",
    "                '시도별.90':'kn_overseas','시도별.91':'kn_domestic','시도별.92':'kn_confirmed','시도별.93':'kn_iso','시도별.94':'kn_iso_rel','시도별.95':'kn_death',\n",
    "                '시도별.96':'jj_overseas','시도별.97':'jj_domestic','시도별.98':'jj_confirmed','시도별.99':'jj_iso','시도별.100':'jj_iso_rel','시도별.101':'jj_death',\n",
    "                '시도별.102':'qs_overseas','시도별.103':'qs_domestic','시도별.104':'qs_confirmed','시도별.105':'qs_iso','시도별.106':'qs_iso_rel','시도별.107':'qs_death'}, axis='columns')"
   ]
  },
  {
   "cell_type": "code",
   "execution_count": 7,
   "metadata": {},
   "outputs": [],
   "source": [
    "# df.columns"
   ]
  },
  {
   "cell_type": "code",
   "execution_count": 8,
   "metadata": {},
   "outputs": [],
   "source": [
    "df = df.replace('-', '0') # \"-\" -> \"0\"으로 처리"
   ]
  },
  {
   "cell_type": "code",
   "execution_count": 9,
   "metadata": {},
   "outputs": [],
   "source": [
    "df['date'] = pd.to_datetime(df[\"date_s\"].str.replace(\". \",\"-\")) # datetime 형식의 컬럼 추가"
   ]
  },
  {
   "cell_type": "code",
   "execution_count": 10,
   "metadata": {},
   "outputs": [],
   "source": [
    "# 기존의 문자형식의 컬럼 삭제 및 datetime 컬럼 이동\n",
    "df = df.drop('date_s', axis=1)\n",
    "df = df[['date','seoul_overseas','seoul_domestic','seoul_confirmed','seoul_iso','seoul_iso_rel','seoul_death',\n",
    "                'bs_overseas','bs_domestic','bs_confirmed','bs_iso','bs_iso_rel','bs_death',\n",
    "                'tk_overseas','tk_domestic','tk_confirmed','tk_iso','tk_iso_rel','tk_death',\n",
    "                'ic_overseas','ic_domestic','ic_confirmed','ic_iso','ic_iso_rel','ic_death',\n",
    "                'kj_overseas','kj_domestic','kj_confirmed','kj_iso','kj_iso_rel','kj_death',\n",
    "                'dj_overseas','dj_domestic','dj_confirmed','dj_iso','dj_iso_rel','dj_death',\n",
    "                'ulsan_overseas','ulsan_domestic','ulsan_confirmed','ulsan_iso','ulsan_iso_rel','ulsan_death',\n",
    "                'sj_overseas','sj_domestic','sj_confirmed','sj_iso','sj_iso_rel','sj_death',\n",
    "                'gg_overseas','gg_domestic','gg_confirmed','gg_iso','gg_iso_rel','gg_death',\n",
    "                'kw_overseas','kw_domestic','kw_confirmed','kw_iso','kw_iso_rel','kw_death',\n",
    "                'cb_overseas','cb_domestic','cb_confirmed','cb_iso','cb_iso_rel','cb_death',\n",
    "                'cn_overseas','cn_domestic','cn_confirmed','cn_iso','cn_iso_rel','cn_death',\n",
    "                'jb_overseas','jb_domestic','jb_confirmed','jb_iso','jb_iso_rel','jb_death',\n",
    "                'jn_overseas','jn_domestic','jn_confirmed','jn_iso','jn_iso_rel','jn_death',\n",
    "                'kb_overseas','kb_domestic','kb_confirmed','kb_iso','kb_iso_rel','kb_death',\n",
    "                'kn_overseas','kn_domestic','kn_confirmed','kn_iso','kn_iso_rel','kn_death',\n",
    "                'jj_overseas','jj_domestic','jj_confirmed','jj_iso','jj_iso_rel','jj_death',\n",
    "                'qs_overseas','qs_domestic','qs_confirmed','qs_iso','qs_iso_rel','qs_death']]"
   ]
  },
  {
   "cell_type": "code",
   "execution_count": 11,
   "metadata": {},
   "outputs": [],
   "source": [
    "# df.dtypes"
   ]
  },
  {
   "cell_type": "code",
   "execution_count": 12,
   "metadata": {},
   "outputs": [],
   "source": [
    "df = df.astype({'date':'datetime64',\n",
    "                'seoul_overseas':'int64','seoul_domestic':'int64','seoul_confirmed':'int64','seoul_iso':'int64','seoul_iso_rel':'int64','seoul_death':'int64',\n",
    "                'bs_overseas':'int64','bs_domestic':'int64','bs_confirmed':'int64','bs_iso':'int64','bs_iso_rel':'int64','bs_death':'int64',\n",
    "                'tk_overseas':'int64','tk_domestic':'int64','tk_confirmed':'int64','tk_iso':'int64','tk_iso_rel':'int64','tk_death':'int64',\n",
    "                'ic_overseas':'int64','ic_domestic':'int64','ic_confirmed':'int64','ic_iso':'int64','ic_iso_rel':'int64','ic_death':'int64',\n",
    "                'kj_overseas':'int64','kj_domestic':'int64','kj_confirmed':'int64','kj_iso':'int64','kj_iso_rel':'int64','kj_death':'int64',\n",
    "                'dj_overseas':'int64','dj_domestic':'int64','dj_confirmed':'int64','dj_iso':'int64','dj_iso_rel':'int64','dj_death':'int64',\n",
    "                'ulsan_overseas':'int64','ulsan_domestic':'int64','ulsan_confirmed':'int64','ulsan_iso':'int64','ulsan_iso_rel':'int64','ulsan_death':'int64',\n",
    "                'sj_overseas':'int64','sj_domestic':'int64','sj_confirmed':'int64','sj_iso':'int64','sj_iso_rel':'int64','sj_death':'int64',\n",
    "                'gg_overseas':'int64','gg_domestic':'int64','gg_confirmed':'int64','gg_iso':'int64','gg_iso_rel':'int64','gg_death':'int64',\n",
    "                'kw_overseas':'int64','kw_domestic':'int64','kw_confirmed':'int64','kw_iso':'int64','kw_iso_rel':'int64','kw_death':'int64',\n",
    "                'cb_overseas':'int64','cb_domestic':'int64','cb_confirmed':'int64','cb_iso':'int64','cb_iso_rel':'int64','cb_death':'int64',\n",
    "                'cn_overseas':'int64','cn_domestic':'int64','cn_confirmed':'int64','cn_iso':'int64','cn_iso_rel':'int64','cn_death':'int64',\n",
    "                'jb_overseas':'int64','jb_domestic':'int64','jb_confirmed':'int64','jb_iso':'int64','jb_iso_rel':'int64','jb_death':'int64',\n",
    "                'jn_overseas':'int64','jn_domestic':'int64','jn_confirmed':'int64','jn_iso':'int64','jn_iso_rel':'int64','jn_death':'int64',\n",
    "                'kb_overseas':'int64','kb_domestic':'int64','kb_confirmed':'int64','kb_iso':'int64','kb_iso_rel':'int64','kb_death':'int64',\n",
    "                'kn_overseas':'int64','kn_domestic':'int64','kn_confirmed':'int64','kn_iso':'int64','kn_iso_rel':'int64','kn_death':'int64',\n",
    "                'jj_overseas':'int64','jj_domestic':'int64','jj_confirmed':'int64','jj_iso':'int64','jj_iso_rel':'int64','jj_death':'int64',\n",
    "                'qs_overseas':'int64','qs_domestic':'int64','qs_confirmed':'int64','qs_iso':'int64','qs_iso_rel':'int64','qs_death':'int64'})"
   ]
  },
  {
   "cell_type": "code",
   "execution_count": 13,
   "metadata": {},
   "outputs": [],
   "source": [
    "df.to_csv(\"area_data.csv\", index=False)"
   ]
  }
 ],
 "metadata": {
  "kernelspec": {
   "display_name": "Python 3",
   "language": "python",
   "name": "python3"
  },
  "language_info": {
   "codemirror_mode": {
    "name": "ipython",
    "version": 3
   },
   "file_extension": ".py",
   "mimetype": "text/x-python",
   "name": "python",
   "nbconvert_exporter": "python",
   "pygments_lexer": "ipython3",
   "version": "3.7.7"
  }
 },
 "nbformat": 4,
 "nbformat_minor": 4
}
