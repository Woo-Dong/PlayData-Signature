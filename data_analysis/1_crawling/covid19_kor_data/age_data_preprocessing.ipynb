{
 "cells": [
  {
   "cell_type": "code",
   "execution_count": 1,
   "metadata": {},
   "outputs": [],
   "source": [
    "import pandas as pd"
   ]
  },
  {
   "cell_type": "code",
   "execution_count": 2,
   "metadata": {},
   "outputs": [],
   "source": [
    "df = pd.read_csv('age.csv')"
   ]
  },
  {
   "cell_type": "code",
   "execution_count": 3,
   "metadata": {},
   "outputs": [],
   "source": [
    "df.drop(df.index[[0, 1, 2]], inplace=True) # 컬럼 정리"
   ]
  },
  {
   "cell_type": "code",
   "execution_count": 4,
   "metadata": {},
   "outputs": [],
   "source": [
    "df = df.reset_index(drop=True)"
   ]
  },
  {
   "cell_type": "code",
   "execution_count": 5,
   "metadata": {},
   "outputs": [],
   "source": [
    "# df.columns"
   ]
  },
  {
   "cell_type": "code",
   "execution_count": 6,
   "metadata": {},
   "outputs": [],
   "source": [
    "# 컬럼명 재설정\n",
    "df = df.rename({'시점':'date_s','연령별':'0s_confirmed','연령별.1':'0s_death','연령별.2':'10s_confirmed','연령별.3':'10s_death',\n",
    "               '연령별.4':'20s_confirmed','연령별.5':'20s_death','연령별.6':'30s_confirmed','연령별.7':'30s_death',\n",
    "                '연령별.8':'40s_confirmed','연령별.9':'40s_death','연령별.10':'50s_confirmed','연령별.11':'50s_death',\n",
    "               '연령별.12':'60s_confirmed','연령별.13':'60s_death','연령별.14':'70s_confirmed','연령별.15':'70s_death',\n",
    "               '연령별.16':'80s_over_confirmed','연령별.17':'80s_over_death'}, axis='columns')"
   ]
  },
  {
   "cell_type": "code",
   "execution_count": 7,
   "metadata": {},
   "outputs": [],
   "source": [
    "# df.columns"
   ]
  },
  {
   "cell_type": "code",
   "execution_count": 8,
   "metadata": {},
   "outputs": [],
   "source": [
    "df = df.replace('-', '0') # \"-\" -> \"0\"으로 처리"
   ]
  },
  {
   "cell_type": "code",
   "execution_count": 9,
   "metadata": {},
   "outputs": [],
   "source": [
    "df['date'] = pd.to_datetime(df[\"date_s\"].str.replace(\". \",\"-\")) # datetime 형식의 컬럼 추가"
   ]
  },
  {
   "cell_type": "code",
   "execution_count": 10,
   "metadata": {},
   "outputs": [],
   "source": [
    "# 기존의 문자형식의 컬럼 삭제 및 datetime 컬럼 이동\n",
    "df = df.drop('date_s', axis=1)\n",
    "df = df[['date', '0s_confirmed', '0s_death', '10s_confirmed', '10s_death',\n",
    "       '20s_confirmed', '20s_death', '30s_confirmed', '30s_death',\n",
    "       '40s_confirmed', '40s_death', '50s_confirmed', '50s_death',\n",
    "       '60s_confirmed', '60s_death', '70s_confirmed', '70s_death',\n",
    "       '80s_over_confirmed', '80s_over_death']]"
   ]
  },
  {
   "cell_type": "code",
   "execution_count": 11,
   "metadata": {},
   "outputs": [],
   "source": [
    "# df = df.astype({'date': 'datetime'})\n",
    "\n",
    "# datetype int로 변환\n",
    "df = df.astype({'date': 'datetime64','0s_confirmed':'int64', '0s_death':'int64', '10s_confirmed':'int64', '10s_death':'int64',\n",
    "               '20s_confirmed':'int64', '20s_death':'int64', '30s_confirmed':'int64', '30s_death':'int64',\n",
    "               '40s_confirmed':'int64', '40s_death':'int64', '50s_confirmed':'int64', '50s_death':'int64',\n",
    "               '60s_confirmed':'int64', '60s_death':'int64', '70s_confirmed':'int64', '70s_death':'int64',\n",
    "               '80s_over_confirmed':'int64', '80s_over_death':'int64'})"
   ]
  },
  {
   "cell_type": "code",
   "execution_count": 12,
   "metadata": {},
   "outputs": [
    {
     "data": {
      "text/plain": [
       "date                  datetime64[ns]\n",
       "0s_confirmed                   int64\n",
       "0s_death                       int64\n",
       "10s_confirmed                  int64\n",
       "10s_death                      int64\n",
       "20s_confirmed                  int64\n",
       "20s_death                      int64\n",
       "30s_confirmed                  int64\n",
       "30s_death                      int64\n",
       "40s_confirmed                  int64\n",
       "40s_death                      int64\n",
       "50s_confirmed                  int64\n",
       "50s_death                      int64\n",
       "60s_confirmed                  int64\n",
       "60s_death                      int64\n",
       "70s_confirmed                  int64\n",
       "70s_death                      int64\n",
       "80s_over_confirmed             int64\n",
       "80s_over_death                 int64\n",
       "dtype: object"
      ]
     },
     "execution_count": 12,
     "metadata": {},
     "output_type": "execute_result"
    }
   ],
   "source": [
    "df.dtypes"
   ]
  },
  {
   "cell_type": "code",
   "execution_count": 12,
   "metadata": {},
   "outputs": [],
   "source": [
    "df.to_csv(\"covid19_kor_age.csv.csv\", index=False)"
   ]
  }
 ],
 "metadata": {
  "kernelspec": {
   "display_name": "Python 3",
   "language": "python",
   "name": "python3"
  },
  "language_info": {
   "codemirror_mode": {
    "name": "ipython",
    "version": 3
   },
   "file_extension": ".py",
   "mimetype": "text/x-python",
   "name": "python",
   "nbconvert_exporter": "python",
   "pygments_lexer": "ipython3",
   "version": "3.7.7"
  }
 },
 "nbformat": 4,
 "nbformat_minor": 4
}
